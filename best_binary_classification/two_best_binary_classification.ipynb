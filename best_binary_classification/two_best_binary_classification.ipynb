{
  "nbformat": 4,
  "nbformat_minor": 0,
  "metadata": {
    "colab": {
      "provenance": [],
      "collapsed_sections": []
    },
    "kernelspec": {
      "name": "python3",
      "display_name": "Python 3"
    },
    "language_info": {
      "name": "python"
    }
  },
  "cells": [
    {
      "cell_type": "code",
      "source": [
        "#RNN"
      ],
      "metadata": {
        "id": "_HJywpIItCQ9"
      },
      "execution_count": null,
      "outputs": []
    },
    {
      "cell_type": "code",
      "execution_count": null,
      "metadata": {
        "colab": {
          "base_uri": "https://localhost:8080/",
          "height": 493
        },
        "id": "JWG9N6oXrPoy",
        "outputId": "2c152a6d-23ea-485a-b3ed-59d4bcdf5521"
      },
      "outputs": [
        {
          "output_type": "stream",
          "name": "stdout",
          "text": [
            "Downloading data from https://storage.googleapis.com/tensorflow/tf-keras-datasets/mnist.npz\n",
            "11490434/11490434 [==============================] - 0s 0us/step\n"
          ]
        },
        {
          "output_type": "stream",
          "name": "stderr",
          "text": [
            "/usr/local/lib/python3.7/dist-packages/seaborn/_decorators.py:43: FutureWarning: Pass the following variables as keyword args: x, y. From version 0.12, the only valid positional argument will be `data`, and passing other arguments without an explicit keyword will result in an error or misinterpretation.\n",
            "  FutureWarning\n"
          ]
        },
        {
          "output_type": "display_data",
          "data": {
            "text/plain": [
              "<Figure size 600x400 with 1 Axes>"
            ],
            "image/png": "[encoded data removed]"
          },
          "metadata": {
            "needs_background": "light"
          }
        }
      ],
      "source": [
        "from keras.datasets import mnist;\n",
        "\n",
        "(training_dataset_x, training_dataset_y), (test_dataset_x, test_dataset_y) = mnist.load_data()\n",
        "import seaborn as sns\n",
        "import collections\n",
        "import matplotlib.pyplot as plt\n",
        "\n",
        "value_count_training = collections.Counter(training_dataset_y)\n",
        "\n",
        "fig, ax0 = plt.subplots(1, 1, dpi=100)\n",
        "ax = sns.barplot(list(value_count_training.keys()), list(value_count_training.values()), palette='cool')\n",
        "ax.set_xlabel('Handwritten Numbers')\n",
        "ax.set_title(\"Numbers Distribution\")\n",
        "plt.show();\n",
        "training_dataset_x = training_dataset_x.reshape(-1, 28 * 28) \n",
        "test_dataset_x = test_dataset_x.reshape(-1, 28 * 28)\n"
      ]
    },
    {
      "cell_type": "code",
      "source": [
        "from keras.utils import to_categorical\n",
        "\n",
        "training_dataset_y = to_categorical(training_dataset_y)\n",
        "test_dataset_y = to_categorical(test_dataset_y)"
      ],
      "metadata": {
        "id": "zzte45iyrZmv"
      },
      "execution_count": null,
      "outputs": []
    },
    {
      "cell_type": "code",
      "source": [
        "training_dataset_x = training_dataset_x / 255\n",
        "test_dataset_x = test_dataset_x / 255"
      ],
      "metadata": {
        "id": "qkGj9iL5rhK7"
      },
      "execution_count": null,
      "outputs": []
    },
    {
      "cell_type": "code",
      "source": [
        "from keras.models import Sequential\n",
        "from keras.layers import Dense\n",
        "\n",
        "model = Sequential()\n",
        "model.add(Dense(512, input_dim=28 * 28, activation='relu', name='Hidden-1'))\n",
        "model.add(Dense(256, activation='relu', name='Hidden-2'))\n",
        "model.add(Dense(10, activation='softmax', name='Output'))\n",
        "model.summary()"
      ],
      "metadata": {
        "colab": {
          "base_uri": "https://localhost:8080/"
        },
        "id": "yVaUE5_VrjKZ",
        "outputId": "824afa64-f099-4a25-f4fe-3c3be9d8bbde"
      },
      "execution_count": null,
      "outputs": [
        {
          "output_type": "stream",
          "name": "stdout",
          "text": [
            "Model: \"sequential_2\"\n",
            "_________________________________________________________________\n",
            " Layer (type)                Output Shape              Param #   \n",
            "=================================================================\n",
            " Hidden-1 (Dense)            (None, 512)               401920    \n",
            "                                                                 \n",
            " Hidden-2 (Dense)            (None, 256)               131328    \n",
            "                                                                 \n",
            " Output (Dense)              (None, 10)                2570      \n",
            "                                                                 \n",
            "=================================================================\n",
            "Total params: 535,818\n",
            "Trainable params: 535,818\n",
            "Non-trainable params: 0\n",
            "_________________________________________________________________\n"
          ]
        }
      ]
    },
    {
      "cell_type": "code",
      "source": [
        "EPOCHS = 5\n",
        "BATCH_SIZE = 64\n",
        "model.compile('adam', loss='categorical_crossentropy', metrics=['accuracy'])"
      ],
      "metadata": {
        "id": "xJjez_YMrnRB"
      },
      "execution_count": null,
      "outputs": []
    },
    {
      "cell_type": "code",
      "source": [
        "%time hist = model.fit(training_dataset_x, training_dataset_y, epochs=EPOCHS, batch_size=BATCH_SIZE, validation_split=0.2)"
      ],
      "metadata": {
        "colab": {
          "base_uri": "https://localhost:8080/"
        },
        "id": "owz5Ga9-rzND",
        "outputId": "6244ed60-e302-4c70-8164-fc47b06c450d"
      },
      "execution_count": null,
      "outputs": [
        {
          "output_type": "stream",
          "name": "stdout",
          "text": [
            "Epoch 1/5\n",
            "750/750 [==============================] - 5s 6ms/step - loss: 0.2192 - accuracy: 0.9347 - val_loss: 0.1085 - val_accuracy: 0.9676\n",
            "Epoch 2/5\n",
            "750/750 [==============================] - 4s 6ms/step - loss: 0.0865 - accuracy: 0.9736 - val_loss: 0.1047 - val_accuracy: 0.9663\n",
            "Epoch 3/5\n",
            "750/750 [==============================] - 4s 5ms/step - loss: 0.0536 - accuracy: 0.9830 - val_loss: 0.0931 - val_accuracy: 0.9718\n",
            "Epoch 4/5\n",
            "750/750 [==============================] - 4s 5ms/step - loss: 0.0394 - accuracy: 0.9871 - val_loss: 0.1030 - val_accuracy: 0.9714\n",
            "Epoch 5/5\n",
            "750/750 [==============================] - 4s 6ms/step - loss: 0.0322 - accuracy: 0.9897 - val_loss: 0.0802 - val_accuracy: 0.9772\n",
            "CPU times: user 29.5 s, sys: 1.94 s, total: 31.5 s\n",
            "Wall time: 21.2 s\n"
          ]
        }
      ]
    },
    {
      "cell_type": "code",
      "source": [
        "loss, accuracy = model.evaluate(test_dataset_x, test_dataset_y)\n",
        "print('loss = {}, accuracy = {}'.format(loss, accuracy))"
      ],
      "metadata": {
        "colab": {
          "base_uri": "https://localhost:8080/"
        },
        "id": "R1GV6cvXr3Ka",
        "outputId": "8d4ea553-6b90-42a0-fd52-0165c6959872"
      },
      "execution_count": null,
      "outputs": [
        {
          "output_type": "stream",
          "name": "stdout",
          "text": [
            "313/313 [==============================] - 1s 3ms/step - loss: 0.0732 - accuracy: 0.9777\n",
            "loss = 0.07320535182952881, accuracy = 0.9776999950408936\n"
          ]
        }
      ]
    },
    {
      "cell_type": "code",
      "source": [
        "import matplotlib.pyplot as plt\n",
        "\n",
        "plt.title('Epoch-Accuracy Graph')\n",
        "plt.xlabel = 'Epochs'\n",
        "plt.ylabel = 'Loss'\n",
        "plt.plot(range(1, len(hist.epoch) + 1), hist.history['accuracy'])\n",
        "plt.plot(range(1, len(hist.epoch) + 1), hist.history['val_accuracy'])\n",
        "plt.legend(['accuracy', 'val_accuracy'])\n",
        "plt.show()"
      ],
      "metadata": {
        "colab": {
          "base_uri": "https://localhost:8080/",
          "height": 281
        },
        "id": "riYqMrTZsDoT",
        "outputId": "6daca910-d05a-4b38-ad91-207c121d1edd"
      },
      "execution_count": null,
      "outputs": [
        {
          "output_type": "display_data",
          "data": {
            "text/plain": [
              "<Figure size 432x288 with 1 Axes>"
            ],
            "image/png": "[encoded data removed]"
          },
          "metadata": {
            "needs_background": "light"
          }
        }
      ]
    },
    {
      "cell_type": "code",
      "source": [
        "#CNN"
      ],
      "metadata": {
        "id": "-L_H2W7ntBT_"
      },
      "execution_count": null,
      "outputs": []
    },
    {
      "cell_type": "code",
      "source": [
        "from keras.datasets import mnist\n",
        "\n",
        "(training_dataset_x, training_dataset_y), (test_dataset_x, test_dataset_y) = mnist.load_data()\n",
        "\n",
        "training_dataset_x = training_dataset_x.reshape(-1, 28, 28, 1)\n",
        "test_dataset_x = test_dataset_x.reshape(-1, 28, 28, 1)\n",
        "\n",
        "training_dataset_x = training_dataset_x.astype('float32')\n",
        "test_dataset_x = test_dataset_x.astype('float32')"
      ],
      "metadata": {
        "id": "NSoj-6XmsGmL"
      },
      "execution_count": null,
      "outputs": []
    },
    {
      "cell_type": "code",
      "source": [
        "training_dataset_x /= 255\n",
        "test_dataset_x /= 255\n",
        "\n",
        "\n",
        "from keras.utils import to_categorical\n",
        "\n",
        "training_dataset_y = to_categorical(training_dataset_y)\n",
        "test_dataset_y = to_categorical(test_dataset_y)"
      ],
      "metadata": {
        "id": "lluX_apbtOXw"
      },
      "execution_count": null,
      "outputs": []
    },
    {
      "cell_type": "code",
      "source": [
        "\n",
        "from keras.models import Sequential\n",
        "from keras.layers import Conv2D, Dense, Flatten\n",
        "\n",
        "from keras.models import Sequential\n",
        "from keras.layers import Conv2D, Dense, MaxPooling2D, Flatten \n",
        "\n",
        "model = Sequential()\n",
        "model.add(Conv2D(32, kernel_size=(3, 3), input_shape=(28, 28, 1), activation='relu', name='Convolution-1'))\n",
        "model.add(MaxPooling2D(name='MaxPooling2D-1'))\n",
        "model.add(Conv2D(64, kernel_size=(3, 3), activation='relu', name='Convolution-2'))\n",
        "model.add(MaxPooling2D(name='MaxPooling2D-2'))\n",
        "model.add(Flatten())\n",
        "model.add(Dense(128, activation='relu', name='Hidden-1'))\n",
        "model.add(Dense(128, activation='relu', name='Hidden-2'))\n",
        "model.add(Dense(10, activation='softmax', name='Output'))\n",
        "\n",
        "model.summary()"
      ],
      "metadata": {
        "colab": {
          "base_uri": "https://localhost:8080/"
        },
        "id": "We6-48dZtRt9",
        "outputId": "abfcfb83-d90f-4ccd-f0fd-1457f398afe6"
      },
      "execution_count": null,
      "outputs": [
        {
          "output_type": "stream",
          "name": "stdout",
          "text": [
            "Model: \"sequential_1\"\n",
            "_________________________________________________________________\n",
            " Layer (type)                Output Shape              Param #   \n",
            "=================================================================\n",
            " Convolution-1 (Conv2D)      (None, 26, 26, 32)        320       \n",
            "                                                                 \n",
            " MaxPooling2D-1 (MaxPooling2  (None, 13, 13, 32)       0         \n",
            " D)                                                              \n",
            "                                                                 \n",
            " Convolution-2 (Conv2D)      (None, 11, 11, 64)        18496     \n",
            "                                                                 \n",
            " MaxPooling2D-2 (MaxPooling2  (None, 5, 5, 64)         0         \n",
            " D)                                                              \n",
            "                                                                 \n",
            " flatten (Flatten)           (None, 1600)              0         \n",
            "                                                                 \n",
            " Hidden-1 (Dense)            (None, 128)               204928    \n",
            "                                                                 \n",
            " Hidden-2 (Dense)            (None, 128)               16512     \n",
            "                                                                 \n",
            " Output (Dense)              (None, 10)                1290      \n",
            "                                                                 \n",
            "=================================================================\n",
            "Total params: 241,546\n",
            "Trainable params: 241,546\n",
            "Non-trainable params: 0\n",
            "_________________________________________________________________\n"
          ]
        }
      ]
    },
    {
      "cell_type": "code",
      "source": [
        "EPOCHS = 5\n",
        "BATCH_SIZE = 64\n",
        "model.compile(optimizer='adam', loss='categorical_crossentropy', metrics=['accuracy'])\n",
        "%time hist = model.fit(training_dataset_x, training_dataset_y, epochs=EPOCHS, batch_size=BATCH_SIZE, validation_split=0.2)"
      ],
      "metadata": {
        "colab": {
          "base_uri": "https://localhost:8080/"
        },
        "id": "fa-0BA9_tVDW",
        "outputId": "947b32fc-b737-4e0d-a95c-6ba1b698abc3"
      },
      "execution_count": null,
      "outputs": [
        {
          "output_type": "stream",
          "name": "stdout",
          "text": [
            "Epoch 1/5\n",
            "750/750 [==============================] - 34s 44ms/step - loss: 0.1906 - accuracy: 0.9416 - val_loss: 0.0681 - val_accuracy: 0.9799\n",
            "Epoch 2/5\n",
            "750/750 [==============================] - 26s 35ms/step - loss: 0.0544 - accuracy: 0.9829 - val_loss: 0.0533 - val_accuracy: 0.9833\n",
            "Epoch 3/5\n",
            "750/750 [==============================] - 27s 36ms/step - loss: 0.0372 - accuracy: 0.9883 - val_loss: 0.0463 - val_accuracy: 0.9868\n",
            "Epoch 4/5\n",
            "750/750 [==============================] - 26s 35ms/step - loss: 0.0281 - accuracy: 0.9912 - val_loss: 0.0492 - val_accuracy: 0.9869\n",
            "Epoch 5/5\n",
            "750/750 [==============================] - 30s 39ms/step - loss: 0.0213 - accuracy: 0.9929 - val_loss: 0.0366 - val_accuracy: 0.9898\n",
            "CPU times: user 3min 45s, sys: 7.51 s, total: 3min 52s\n",
            "Wall time: 2min 22s\n"
          ]
        }
      ]
    },
    {
      "cell_type": "code",
      "source": [
        "loss, accuracy = model.evaluate(test_dataset_x, test_dataset_y)\n",
        "print('loss = {}, accuracy = {}'.format(loss, accuracy))"
      ],
      "metadata": {
        "colab": {
          "base_uri": "https://localhost:8080/"
        },
        "id": "S82Iy3pCtYUU",
        "outputId": "85b9ac31-0779-4c8c-b6d8-df63386ec00e"
      },
      "execution_count": null,
      "outputs": [
        {
          "output_type": "stream",
          "name": "stdout",
          "text": [
            "313/313 [==============================] - 2s 6ms/step - loss: 0.0292 - accuracy: 0.9911\n",
            "loss = 0.029193924739956856, accuracy = 0.991100013256073\n"
          ]
        }
      ]
    },
    {
      "cell_type": "code",
      "source": [
        "import matplotlib.pyplot as plt\n",
        "\n",
        "plt.title('Epoch-Accuracy Graph')\n",
        "plt.xlabel = 'Epochs'\n",
        "plt.ylabel = 'Loss'\n",
        "plt.plot(range(1, len(hist.epoch) + 1), hist.history['accuracy'])\n",
        "plt.plot(range(1, len(hist.epoch) + 1), hist.history['val_accuracy'])\n",
        "plt.legend(['accuracy', 'val_accuracy'])\n",
        "plt.show()"
      ],
      "metadata": {
        "colab": {
          "base_uri": "https://localhost:8080/",
          "height": 281
        },
        "id": "vDdqzZNYtx9b",
        "outputId": "e12deada-63d5-4083-c5ae-b8dd4e559fdb"
      },
      "execution_count": null,
      "outputs": [
        {
          "output_type": "display_data",
          "data": {
            "text/plain": [
              "<Figure size 432x288 with 1 Axes>"
            ],
            "image/png": "[encoded data removed]"
          },
          "metadata": {
            "needs_background": "light"
          }
        }
      ]
    },
    {
      "cell_type": "code",
      "source": [
        "#different between both accuracy is different so for that CNN is best but it takes some minutes of time but accuracy is more than RNN"
      ],
      "metadata": {
        "id": "Oltj5x4Qt-nU"
      },
      "execution_count": null,
      "outputs": []
    },
    {
      "cell_type": "code",
      "source": [],
      "metadata": {
        "id": "UnsQotYDuRU5"
      },
      "execution_count": null,
      "outputs": []
    }
  ]
}