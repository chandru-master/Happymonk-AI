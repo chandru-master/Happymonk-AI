{
  "cells": [
    {
      "cell_type": "code",
      "execution_count": 1,
      "metadata": {
        "colab": {
          "base_uri": "https://localhost:8080/"
        },
        "id": "5INRgmsNpoYh",
        "outputId": "6c7d3011-4efa-4ec2-d446-6fcfe42049f6"
      },
      "outputs": [
        {
          "name": "stdout",
          "output_type": "stream",
          "text": [
            "Cloning into 'yolov5'...\n",
            "remote: Enumerating objects: 14298, done.\u001b[K\n",
            "remote: Counting objects: 100% (104/104), done.\u001b[K\n",
            "remote: Compressing objects: 100% (69/69), done.\u001b[K\n",
            "remote: Total 14298 (delta 61), reused 70 (delta 35), pack-reused 14194\u001b[K\n",
            "Receiving objects: 100% (14298/14298), 13.39 MiB | 8.53 MiB/s, done.\n",
            "Resolving deltas: 100% (9876/9876), done.\n"
          ]
        }
      ],
      "source": [
        "!git clone https://github.com/ultralytics/yolov5  # clone\n"
      ]
    },
    {
      "cell_type": "code",
      "execution_count": 1,
      "metadata": {
        "colab": {
          "base_uri": "https://localhost:8080/"
        },
        "id": "oI6GHX63qHWq",
        "outputId": "9801a653-34ad-4815-bc48-f07cf15d7aaf"
      },
      "outputs": [
        {
          "name": "stdout",
          "output_type": "stream",
          "text": [
            "/content/yolov5\n"
          ]
        }
      ],
      "source": [
        "%cd yolov5"
      ]
    },
    {
      "cell_type": "code",
      "execution_count": 3,
      "metadata": {
        "colab": {
          "base_uri": "https://localhost:8080/"
        },
        "id": "k17vl6PfqO3f",
        "outputId": "d2691bda-8b11-4634-d6c0-5f80eff7ae2b"
      },
      "outputs": [
        {
          "name": "stdout",
          "output_type": "stream",
          "text": [
            "\u001b[?25l\r\u001b[K     |▏                               | 10 kB 7.0 MB/s eta 0:00:01\r\u001b[K     |▍                               | 20 kB 11.5 MB/s eta 0:00:01\r\u001b[K     |▋                               | 30 kB 16.0 MB/s eta 0:00:01\r\u001b[K     |▉                               | 40 kB 15.1 MB/s eta 0:00:01\r\u001b[K     |█                               | 51 kB 17.7 MB/s eta 0:00:01\r\u001b[K     |█▎                              | 61 kB 20.3 MB/s eta 0:00:01\r\u001b[K     |█▌                              | 71 kB 20.1 MB/s eta 0:00:01\r\u001b[K     |█▊                              | 81 kB 21.7 MB/s eta 0:00:01\r\u001b[K     |█▉                              | 92 kB 23.5 MB/s eta 0:00:01\r\u001b[K     |██                              | 102 kB 25.2 MB/s eta 0:00:01\r\u001b[K     |██▎                             | 112 kB 25.2 MB/s eta 0:00:01\r\u001b[K     |██▌                             | 122 kB 25.2 MB/s eta 0:00:01\r\u001b[K     |██▊                             | 133 kB 25.2 MB/s eta 0:00:01\r\u001b[K     |███                             | 143 kB 25.2 MB/s eta 0:00:01\r\u001b[K     |███▏                            | 153 kB 25.2 MB/s eta 0:00:01\r\u001b[K     |███▍                            | 163 kB 25.2 MB/s eta 0:00:01\r\u001b[K     |███▌                            | 174 kB 25.2 MB/s eta 0:00:01\r\u001b[K     |███▊                            | 184 kB 25.2 MB/s eta 0:00:01\r\u001b[K     |████                            | 194 kB 25.2 MB/s eta 0:00:01\r\u001b[K     |████▏                           | 204 kB 25.2 MB/s eta 0:00:01\r\u001b[K     |████▍                           | 215 kB 25.2 MB/s eta 0:00:01\r\u001b[K     |████▋                           | 225 kB 25.2 MB/s eta 0:00:01\r\u001b[K     |████▉                           | 235 kB 25.2 MB/s eta 0:00:01\r\u001b[K     |█████                           | 245 kB 25.2 MB/s eta 0:00:01\r\u001b[K     |█████▎                          | 256 kB 25.2 MB/s eta 0:00:01\r\u001b[K     |█████▍                          | 266 kB 25.2 MB/s eta 0:00:01\r\u001b[K     |█████▋                          | 276 kB 25.2 MB/s eta 0:00:01\r\u001b[K     |█████▉                          | 286 kB 25.2 MB/s eta 0:00:01\r\u001b[K     |██████                          | 296 kB 25.2 MB/s eta 0:00:01\r\u001b[K     |██████▎                         | 307 kB 25.2 MB/s eta 0:00:01\r\u001b[K     |██████▌                         | 317 kB 25.2 MB/s eta 0:00:01\r\u001b[K     |██████▊                         | 327 kB 25.2 MB/s eta 0:00:01\r\u001b[K     |███████                         | 337 kB 25.2 MB/s eta 0:00:01\r\u001b[K     |███████                         | 348 kB 25.2 MB/s eta 0:00:01\r\u001b[K     |███████▎                        | 358 kB 25.2 MB/s eta 0:00:01\r\u001b[K     |███████▌                        | 368 kB 25.2 MB/s eta 0:00:01\r\u001b[K     |███████▊                        | 378 kB 25.2 MB/s eta 0:00:01\r\u001b[K     |████████                        | 389 kB 25.2 MB/s eta 0:00:01\r\u001b[K     |████████▏                       | 399 kB 25.2 MB/s eta 0:00:01\r\u001b[K     |████████▍                       | 409 kB 25.2 MB/s eta 0:00:01\r\u001b[K     |████████▋                       | 419 kB 25.2 MB/s eta 0:00:01\r\u001b[K     |████████▉                       | 430 kB 25.2 MB/s eta 0:00:01\r\u001b[K     |█████████                       | 440 kB 25.2 MB/s eta 0:00:01\r\u001b[K     |█████████▏                      | 450 kB 25.2 MB/s eta 0:00:01\r\u001b[K     |█████████▍                      | 460 kB 25.2 MB/s eta 0:00:01\r\u001b[K     |█████████▋                      | 471 kB 25.2 MB/s eta 0:00:01\r\u001b[K     |█████████▉                      | 481 kB 25.2 MB/s eta 0:00:01\r\u001b[K     |██████████                      | 491 kB 25.2 MB/s eta 0:00:01\r\u001b[K     |██████████▎                     | 501 kB 25.2 MB/s eta 0:00:01\r\u001b[K     |██████████▌                     | 512 kB 25.2 MB/s eta 0:00:01\r\u001b[K     |██████████▋                     | 522 kB 25.2 MB/s eta 0:00:01\r\u001b[K     |██████████▉                     | 532 kB 25.2 MB/s eta 0:00:01\r\u001b[K     |███████████                     | 542 kB 25.2 MB/s eta 0:00:01\r\u001b[K     |███████████▎                    | 552 kB 25.2 MB/s eta 0:00:01\r\u001b[K     |███████████▌                    | 563 kB 25.2 MB/s eta 0:00:01\r\u001b[K     |███████████▊                    | 573 kB 25.2 MB/s eta 0:00:01\r\u001b[K     |████████████                    | 583 kB 25.2 MB/s eta 0:00:01\r\u001b[K     |████████████▏                   | 593 kB 25.2 MB/s eta 0:00:01\r\u001b[K     |████████████▍                   | 604 kB 25.2 MB/s eta 0:00:01\r\u001b[K     |████████████▌                   | 614 kB 25.2 MB/s eta 0:00:01\r\u001b[K     |████████████▊                   | 624 kB 25.2 MB/s eta 0:00:01\r\u001b[K     |█████████████                   | 634 kB 25.2 MB/s eta 0:00:01\r\u001b[K     |█████████████▏                  | 645 kB 25.2 MB/s eta 0:00:01\r\u001b[K     |█████████████▍                  | 655 kB 25.2 MB/s eta 0:00:01\r\u001b[K     |█████████████▋                  | 665 kB 25.2 MB/s eta 0:00:01\r\u001b[K     |█████████████▉                  | 675 kB 25.2 MB/s eta 0:00:01\r\u001b[K     |██████████████                  | 686 kB 25.2 MB/s eta 0:00:01\r\u001b[K     |██████████████▏                 | 696 kB 25.2 MB/s eta 0:00:01\r\u001b[K     |██████████████▍                 | 706 kB 25.2 MB/s eta 0:00:01\r\u001b[K     |██████████████▋                 | 716 kB 25.2 MB/s eta 0:00:01\r\u001b[K     |██████████████▉                 | 727 kB 25.2 MB/s eta 0:00:01\r\u001b[K     |███████████████                 | 737 kB 25.2 MB/s eta 0:00:01\r\u001b[K     |███████████████▎                | 747 kB 25.2 MB/s eta 0:00:01\r\u001b[K     |███████████████▌                | 757 kB 25.2 MB/s eta 0:00:01\r\u001b[K     |███████████████▊                | 768 kB 25.2 MB/s eta 0:00:01\r\u001b[K     |████████████████                | 778 kB 25.2 MB/s eta 0:00:01\r\u001b[K     |████████████████                | 788 kB 25.2 MB/s eta 0:00:01\r\u001b[K     |████████████████▎               | 798 kB 25.2 MB/s eta 0:00:01\r\u001b[K     |████████████████▌               | 808 kB 25.2 MB/s eta 0:00:01\r\u001b[K     |████████████████▊               | 819 kB 25.2 MB/s eta 0:00:01\r\u001b[K     |█████████████████               | 829 kB 25.2 MB/s eta 0:00:01\r\u001b[K     |█████████████████▏              | 839 kB 25.2 MB/s eta 0:00:01\r\u001b[K     |█████████████████▍              | 849 kB 25.2 MB/s eta 0:00:01\r\u001b[K     |█████████████████▋              | 860 kB 25.2 MB/s eta 0:00:01\r\u001b[K     |█████████████████▊              | 870 kB 25.2 MB/s eta 0:00:01\r\u001b[K     |██████████████████              | 880 kB 25.2 MB/s eta 0:00:01\r\u001b[K     |██████████████████▏             | 890 kB 25.2 MB/s eta 0:00:01\r\u001b[K     |██████████████████▍             | 901 kB 25.2 MB/s eta 0:00:01\r\u001b[K     |██████████████████▋             | 911 kB 25.2 MB/s eta 0:00:01\r\u001b[K     |██████████████████▉             | 921 kB 25.2 MB/s eta 0:00:01\r\u001b[K     |███████████████████             | 931 kB 25.2 MB/s eta 0:00:01\r\u001b[K     |███████████████████▎            | 942 kB 25.2 MB/s eta 0:00:01\r\u001b[K     |███████████████████▌            | 952 kB 25.2 MB/s eta 0:00:01\r\u001b[K     |███████████████████▋            | 962 kB 25.2 MB/s eta 0:00:01\r\u001b[K     |███████████████████▉            | 972 kB 25.2 MB/s eta 0:00:01\r\u001b[K     |████████████████████            | 983 kB 25.2 MB/s eta 0:00:01\r\u001b[K     |████████████████████▎           | 993 kB 25.2 MB/s eta 0:00:01\r\u001b[K     |████████████████████▌           | 1.0 MB 25.2 MB/s eta 0:00:01\r\u001b[K     |████████████████████▊           | 1.0 MB 25.2 MB/s eta 0:00:01\r\u001b[K     |█████████████████████           | 1.0 MB 25.2 MB/s eta 0:00:01\r\u001b[K     |█████████████████████▏          | 1.0 MB 25.2 MB/s eta 0:00:01\r\u001b[K     |█████████████████████▎          | 1.0 MB 25.2 MB/s eta 0:00:01\r\u001b[K     |█████████████████████▌          | 1.1 MB 25.2 MB/s eta 0:00:01\r\u001b[K     |█████████████████████▊          | 1.1 MB 25.2 MB/s eta 0:00:01\r\u001b[K     |██████████████████████          | 1.1 MB 25.2 MB/s eta 0:00:01\r\u001b[K     |██████████████████████▏         | 1.1 MB 25.2 MB/s eta 0:00:01\r\u001b[K     |██████████████████████▍         | 1.1 MB 25.2 MB/s eta 0:00:01\r\u001b[K     |██████████████████████▋         | 1.1 MB 25.2 MB/s eta 0:00:01\r\u001b[K     |██████████████████████▉         | 1.1 MB 25.2 MB/s eta 0:00:01\r\u001b[K     |███████████████████████         | 1.1 MB 25.2 MB/s eta 0:00:01\r\u001b[K     |███████████████████████▏        | 1.1 MB 25.2 MB/s eta 0:00:01\r\u001b[K     |███████████████████████▍        | 1.1 MB 25.2 MB/s eta 0:00:01\r\u001b[K     |███████████████████████▋        | 1.2 MB 25.2 MB/s eta 0:00:01\r\u001b[K     |███████████████████████▉        | 1.2 MB 25.2 MB/s eta 0:00:01\r\u001b[K     |████████████████████████        | 1.2 MB 25.2 MB/s eta 0:00:01\r\u001b[K     |████████████████████████▎       | 1.2 MB 25.2 MB/s eta 0:00:01\r\u001b[K     |████████████████████████▌       | 1.2 MB 25.2 MB/s eta 0:00:01\r\u001b[K     |████████████████████████▊       | 1.2 MB 25.2 MB/s eta 0:00:01\r\u001b[K     |████████████████████████▉       | 1.2 MB 25.2 MB/s eta 0:00:01\r\u001b[K     |█████████████████████████       | 1.2 MB 25.2 MB/s eta 0:00:01\r\u001b[K     |█████████████████████████▎      | 1.2 MB 25.2 MB/s eta 0:00:01\r\u001b[K     |█████████████████████████▌      | 1.2 MB 25.2 MB/s eta 0:00:01\r\u001b[K     |█████████████████████████▊      | 1.3 MB 25.2 MB/s eta 0:00:01\r\u001b[K     |██████████████████████████      | 1.3 MB 25.2 MB/s eta 0:00:01\r\u001b[K     |██████████████████████████▏     | 1.3 MB 25.2 MB/s eta 0:00:01\r\u001b[K     |██████████████████████████▍     | 1.3 MB 25.2 MB/s eta 0:00:01\r\u001b[K     |██████████████████████████▌     | 1.3 MB 25.2 MB/s eta 0:00:01\r\u001b[K     |██████████████████████████▊     | 1.3 MB 25.2 MB/s eta 0:00:01\r\u001b[K     |███████████████████████████     | 1.3 MB 25.2 MB/s eta 0:00:01\r\u001b[K     |███████████████████████████▏    | 1.3 MB 25.2 MB/s eta 0:00:01\r\u001b[K     |███████████████████████████▍    | 1.3 MB 25.2 MB/s eta 0:00:01\r\u001b[K     |███████████████████████████▋    | 1.4 MB 25.2 MB/s eta 0:00:01\r\u001b[K     |███████████████████████████▉    | 1.4 MB 25.2 MB/s eta 0:00:01\r\u001b[K     |████████████████████████████    | 1.4 MB 25.2 MB/s eta 0:00:01\r\u001b[K     |████████████████████████████▎   | 1.4 MB 25.2 MB/s eta 0:00:01\r\u001b[K     |████████████████████████████▍   | 1.4 MB 25.2 MB/s eta 0:00:01\r\u001b[K     |████████████████████████████▋   | 1.4 MB 25.2 MB/s eta 0:00:01\r\u001b[K     |████████████████████████████▉   | 1.4 MB 25.2 MB/s eta 0:00:01\r\u001b[K     |█████████████████████████████   | 1.4 MB 25.2 MB/s eta 0:00:01\r\u001b[K     |█████████████████████████████▎  | 1.4 MB 25.2 MB/s eta 0:00:01\r\u001b[K     |█████████████████████████████▌  | 1.4 MB 25.2 MB/s eta 0:00:01\r\u001b[K     |█████████████████████████████▊  | 1.5 MB 25.2 MB/s eta 0:00:01\r\u001b[K     |██████████████████████████████  | 1.5 MB 25.2 MB/s eta 0:00:01\r\u001b[K     |██████████████████████████████  | 1.5 MB 25.2 MB/s eta 0:00:01\r\u001b[K     |██████████████████████████████▎ | 1.5 MB 25.2 MB/s eta 0:00:01\r\u001b[K     |██████████████████████████████▌ | 1.5 MB 25.2 MB/s eta 0:00:01\r\u001b[K     |██████████████████████████████▊ | 1.5 MB 25.2 MB/s eta 0:00:01\r\u001b[K     |███████████████████████████████ | 1.5 MB 25.2 MB/s eta 0:00:01\r\u001b[K     |███████████████████████████████▏| 1.5 MB 25.2 MB/s eta 0:00:01\r\u001b[K     |███████████████████████████████▍| 1.5 MB 25.2 MB/s eta 0:00:01\r\u001b[K     |███████████████████████████████▋| 1.5 MB 25.2 MB/s eta 0:00:01\r\u001b[K     |███████████████████████████████▉| 1.6 MB 25.2 MB/s eta 0:00:01\r\u001b[K     |████████████████████████████████| 1.6 MB 25.2 MB/s eta 0:00:01\r\u001b[K     |████████████████████████████████| 1.6 MB 25.2 MB/s \n",
            "\u001b[?25h"
          ]
        }
      ],
      "source": [
        "%pip install -qr requirements.txt"
      ]
    },
    {
      "cell_type": "code",
      "execution_count": 4,
      "metadata": {
        "colab": {
          "base_uri": "https://localhost:8080/",
          "height": 1000
        },
        "id": "5LJ3kpfPqcE9",
        "outputId": "52f7e02e-6571-4785-ce0c-669cceae20f6"
      },
      "outputs": [
        {
          "name": "stdout",
          "output_type": "stream",
          "text": [
            "Looking in indexes: https://pypi.org/simple, https://us-python.pkg.dev/colab-wheels/public/simple/\n",
            "Requirement already satisfied: matplotlib>=3.2.2 in /usr/local/lib/python3.7/dist-packages (from -r requirements.txt (line 5)) (3.2.2)\n",
            "Collecting matplotlib>=3.2.2\n",
            "  Downloading matplotlib-3.5.3-cp37-cp37m-manylinux_2_5_x86_64.manylinux1_x86_64.whl (11.2 MB)\n",
            "\u001b[K     |████████████████████████████████| 11.2 MB 33.5 MB/s \n",
            "\u001b[?25hRequirement already satisfied: numpy>=1.18.5 in /usr/local/lib/python3.7/dist-packages (from -r requirements.txt (line 6)) (1.21.6)\n",
            "Requirement already satisfied: opencv-python>=4.1.1 in /usr/local/lib/python3.7/dist-packages (from -r requirements.txt (line 7)) (4.6.0.66)\n",
            "Requirement already satisfied: Pillow>=7.1.2 in /usr/local/lib/python3.7/dist-packages (from -r requirements.txt (line 8)) (7.1.2)\n",
            "Collecting Pillow>=7.1.2\n",
            "  Downloading Pillow-9.2.0-cp37-cp37m-manylinux_2_17_x86_64.manylinux2014_x86_64.whl (3.1 MB)\n",
            "\u001b[K     |████████████████████████████████| 3.1 MB 60.4 MB/s \n",
            "\u001b[?25hRequirement already satisfied: PyYAML>=5.3.1 in /usr/local/lib/python3.7/dist-packages (from -r requirements.txt (line 9)) (6.0)\n",
            "Requirement already satisfied: requests>=2.23.0 in /usr/local/lib/python3.7/dist-packages (from -r requirements.txt (line 10)) (2.23.0)\n",
            "Collecting requests>=2.23.0\n",
            "  Downloading requests-2.28.1-py3-none-any.whl (62 kB)\n",
            "\u001b[K     |████████████████████████████████| 62 kB 1.5 MB/s \n",
            "\u001b[?25hRequirement already satisfied: scipy>=1.4.1 in /usr/local/lib/python3.7/dist-packages (from -r requirements.txt (line 11)) (1.7.3)\n",
            "Requirement already satisfied: torch>=1.7.0 in /usr/local/lib/python3.7/dist-packages (from -r requirements.txt (line 12)) (1.12.1+cu113)\n",
            "Requirement already satisfied: torchvision>=0.8.1 in /usr/local/lib/python3.7/dist-packages (from -r requirements.txt (line 13)) (0.13.1+cu113)\n",
            "Requirement already satisfied: tqdm>=4.64.0 in /usr/local/lib/python3.7/dist-packages (from -r requirements.txt (line 14)) (4.64.1)\n",
            "Requirement already satisfied: tensorboard>=2.4.1 in /usr/local/lib/python3.7/dist-packages (from -r requirements.txt (line 18)) (2.9.1)\n",
            "Collecting tensorboard>=2.4.1\n",
            "  Downloading tensorboard-2.10.1-py3-none-any.whl (5.9 MB)\n",
            "\u001b[K     |████████████████████████████████| 5.9 MB 55.7 MB/s \n",
            "\u001b[?25hRequirement already satisfied: pandas>=1.1.4 in /usr/local/lib/python3.7/dist-packages (from -r requirements.txt (line 23)) (1.3.5)\n",
            "Requirement already satisfied: seaborn>=0.11.0 in /usr/local/lib/python3.7/dist-packages (from -r requirements.txt (line 24)) (0.11.2)\n",
            "Collecting seaborn>=0.11.0\n",
            "  Downloading seaborn-0.12.1-py3-none-any.whl (288 kB)\n",
            "\u001b[K     |████████████████████████████████| 288 kB 54.8 MB/s \n",
            "\u001b[?25hRequirement already satisfied: ipython in /usr/local/lib/python3.7/dist-packages (from -r requirements.txt (line 41)) (7.9.0)\n",
            "Collecting ipython\n",
            "  Downloading ipython-7.34.0-py3-none-any.whl (793 kB)\n",
            "\u001b[K     |████████████████████████████████| 793 kB 71.7 MB/s \n",
            "\u001b[?25hRequirement already satisfied: psutil in /usr/local/lib/python3.7/dist-packages (from -r requirements.txt (line 42)) (5.4.8)\n",
            "Collecting psutil\n",
            "  Downloading psutil-5.9.3-cp37-cp37m-manylinux_2_12_x86_64.manylinux2010_x86_64.manylinux_2_17_x86_64.manylinux2014_x86_64.whl (291 kB)\n",
            "\u001b[K     |████████████████████████████████| 291 kB 71.1 MB/s \n",
            "\u001b[?25hRequirement already satisfied: thop>=0.1.1 in /usr/local/lib/python3.7/dist-packages (from -r requirements.txt (line 43)) (0.1.1.post2209072238)\n",
            "Requirement already satisfied: cycler>=0.10 in /usr/local/lib/python3.7/dist-packages (from matplotlib>=3.2.2->-r requirements.txt (line 5)) (0.11.0)\n",
            "Collecting fonttools>=4.22.0\n",
            "  Downloading fonttools-4.37.4-py3-none-any.whl (960 kB)\n",
            "\u001b[K     |████████████████████████████████| 960 kB 54.8 MB/s \n",
            "\u001b[?25hRequirement already satisfied: pyparsing>=2.2.1 in /usr/local/lib/python3.7/dist-packages (from matplotlib>=3.2.2->-r requirements.txt (line 5)) (3.0.9)\n",
            "Requirement already satisfied: python-dateutil>=2.7 in /usr/local/lib/python3.7/dist-packages (from matplotlib>=3.2.2->-r requirements.txt (line 5)) (2.8.2)\n",
            "Requirement already satisfied: packaging>=20.0 in /usr/local/lib/python3.7/dist-packages (from matplotlib>=3.2.2->-r requirements.txt (line 5)) (21.3)\n",
            "Requirement already satisfied: kiwisolver>=1.0.1 in /usr/local/lib/python3.7/dist-packages (from matplotlib>=3.2.2->-r requirements.txt (line 5)) (1.4.4)\n",
            "Requirement already satisfied: idna<4,>=2.5 in /usr/local/lib/python3.7/dist-packages (from requests>=2.23.0->-r requirements.txt (line 10)) (2.10)\n",
            "Requirement already satisfied: certifi>=2017.4.17 in /usr/local/lib/python3.7/dist-packages (from requests>=2.23.0->-r requirements.txt (line 10)) (2022.9.24)\n",
            "Requirement already satisfied: urllib3<1.27,>=1.21.1 in /usr/local/lib/python3.7/dist-packages (from requests>=2.23.0->-r requirements.txt (line 10)) (1.24.3)\n",
            "Requirement already satisfied: charset-normalizer<3,>=2 in /usr/local/lib/python3.7/dist-packages (from requests>=2.23.0->-r requirements.txt (line 10)) (2.1.1)\n",
            "Requirement already satisfied: typing-extensions in /usr/local/lib/python3.7/dist-packages (from torch>=1.7.0->-r requirements.txt (line 12)) (4.1.1)\n",
            "Requirement already satisfied: protobuf<3.20,>=3.9.2 in /usr/local/lib/python3.7/dist-packages (from tensorboard>=2.4.1->-r requirements.txt (line 18)) (3.17.3)\n",
            "Requirement already satisfied: absl-py>=0.4 in /usr/local/lib/python3.7/dist-packages (from tensorboard>=2.4.1->-r requirements.txt (line 18)) (1.3.0)\n",
            "Requirement already satisfied: setuptools>=41.0.0 in /usr/local/lib/python3.7/dist-packages (from tensorboard>=2.4.1->-r requirements.txt (line 18)) (57.4.0)\n",
            "Requirement already satisfied: markdown>=2.6.8 in /usr/local/lib/python3.7/dist-packages (from tensorboard>=2.4.1->-r requirements.txt (line 18)) (3.4.1)\n",
            "Requirement already satisfied: grpcio>=1.24.3 in /usr/local/lib/python3.7/dist-packages (from tensorboard>=2.4.1->-r requirements.txt (line 18)) (1.49.1)\n",
            "Requirement already satisfied: tensorboard-plugin-wit>=1.6.0 in /usr/local/lib/python3.7/dist-packages (from tensorboard>=2.4.1->-r requirements.txt (line 18)) (1.8.1)\n",
            "Requirement already satisfied: wheel>=0.26 in /usr/local/lib/python3.7/dist-packages (from tensorboard>=2.4.1->-r requirements.txt (line 18)) (0.37.1)\n",
            "Requirement already satisfied: werkzeug>=1.0.1 in /usr/local/lib/python3.7/dist-packages (from tensorboard>=2.4.1->-r requirements.txt (line 18)) (1.0.1)\n",
            "Requirement already satisfied: google-auth-oauthlib<0.5,>=0.4.1 in /usr/local/lib/python3.7/dist-packages (from tensorboard>=2.4.1->-r requirements.txt (line 18)) (0.4.6)\n",
            "Requirement already satisfied: tensorboard-data-server<0.7.0,>=0.6.0 in /usr/local/lib/python3.7/dist-packages (from tensorboard>=2.4.1->-r requirements.txt (line 18)) (0.6.1)\n",
            "Requirement already satisfied: google-auth<3,>=1.6.3 in /usr/local/lib/python3.7/dist-packages (from tensorboard>=2.4.1->-r requirements.txt (line 18)) (1.35.0)\n",
            "Requirement already satisfied: pytz>=2017.3 in /usr/local/lib/python3.7/dist-packages (from pandas>=1.1.4->-r requirements.txt (line 23)) (2022.4)\n",
            "Requirement already satisfied: pyasn1-modules>=0.2.1 in /usr/local/lib/python3.7/dist-packages (from google-auth<3,>=1.6.3->tensorboard>=2.4.1->-r requirements.txt (line 18)) (0.2.8)\n",
            "Requirement already satisfied: rsa<5,>=3.1.4 in /usr/local/lib/python3.7/dist-packages (from google-auth<3,>=1.6.3->tensorboard>=2.4.1->-r requirements.txt (line 18)) (4.9)\n",
            "Requirement already satisfied: cachetools<5.0,>=2.0.0 in /usr/local/lib/python3.7/dist-packages (from google-auth<3,>=1.6.3->tensorboard>=2.4.1->-r requirements.txt (line 18)) (4.2.4)\n",
            "Requirement already satisfied: six>=1.9.0 in /usr/local/lib/python3.7/dist-packages (from google-auth<3,>=1.6.3->tensorboard>=2.4.1->-r requirements.txt (line 18)) (1.15.0)\n",
            "Requirement already satisfied: requests-oauthlib>=0.7.0 in /usr/local/lib/python3.7/dist-packages (from google-auth-oauthlib<0.5,>=0.4.1->tensorboard>=2.4.1->-r requirements.txt (line 18)) (1.3.1)\n",
            "Requirement already satisfied: importlib-metadata>=4.4 in /usr/local/lib/python3.7/dist-packages (from markdown>=2.6.8->tensorboard>=2.4.1->-r requirements.txt (line 18)) (4.13.0)\n",
            "Requirement already satisfied: zipp>=0.5 in /usr/local/lib/python3.7/dist-packages (from importlib-metadata>=4.4->markdown>=2.6.8->tensorboard>=2.4.1->-r requirements.txt (line 18)) (3.9.0)\n",
            "Requirement already satisfied: pyasn1<0.5.0,>=0.4.6 in /usr/local/lib/python3.7/dist-packages (from pyasn1-modules>=0.2.1->google-auth<3,>=1.6.3->tensorboard>=2.4.1->-r requirements.txt (line 18)) (0.4.8)\n",
            "Requirement already satisfied: oauthlib>=3.0.0 in /usr/local/lib/python3.7/dist-packages (from requests-oauthlib>=0.7.0->google-auth-oauthlib<0.5,>=0.4.1->tensorboard>=2.4.1->-r requirements.txt (line 18)) (3.2.1)\n",
            "Collecting matplotlib-inline\n",
            "  Downloading matplotlib_inline-0.1.6-py3-none-any.whl (9.4 kB)\n",
            "Requirement already satisfied: pickleshare in /usr/local/lib/python3.7/dist-packages (from ipython->-r requirements.txt (line 41)) (0.7.5)\n",
            "Requirement already satisfied: prompt-toolkit!=3.0.0,!=3.0.1,<3.1.0,>=2.0.0 in /usr/local/lib/python3.7/dist-packages (from ipython->-r requirements.txt (line 41)) (2.0.10)\n",
            "Requirement already satisfied: jedi>=0.16 in /usr/local/lib/python3.7/dist-packages (from ipython->-r requirements.txt (line 41)) (0.18.1)\n",
            "Requirement already satisfied: pygments in /usr/local/lib/python3.7/dist-packages (from ipython->-r requirements.txt (line 41)) (2.6.1)\n",
            "Requirement already satisfied: pexpect>4.3 in /usr/local/lib/python3.7/dist-packages (from ipython->-r requirements.txt (line 41)) (4.8.0)\n",
            "Requirement already satisfied: traitlets>=4.2 in /usr/local/lib/python3.7/dist-packages (from ipython->-r requirements.txt (line 41)) (5.1.1)\n",
            "Requirement already satisfied: decorator in /usr/local/lib/python3.7/dist-packages (from ipython->-r requirements.txt (line 41)) (4.4.2)\n",
            "Requirement already satisfied: backcall in /usr/local/lib/python3.7/dist-packages (from ipython->-r requirements.txt (line 41)) (0.2.0)\n",
            "Requirement already satisfied: parso<0.9.0,>=0.8.0 in /usr/local/lib/python3.7/dist-packages (from jedi>=0.16->ipython->-r requirements.txt (line 41)) (0.8.3)\n",
            "Requirement already satisfied: ptyprocess>=0.5 in /usr/local/lib/python3.7/dist-packages (from pexpect>4.3->ipython->-r requirements.txt (line 41)) (0.7.0)\n",
            "Requirement already satisfied: wcwidth in /usr/local/lib/python3.7/dist-packages (from prompt-toolkit!=3.0.0,!=3.0.1,<3.1.0,>=2.0.0->ipython->-r requirements.txt (line 41)) (0.2.5)\n",
            "Installing collected packages: requests, Pillow, fonttools, matplotlib-inline, matplotlib, tensorboard, seaborn, psutil, ipython\n",
            "  Attempting uninstall: requests\n",
            "    Found existing installation: requests 2.23.0\n",
            "    Uninstalling requests-2.23.0:\n",
            "      Successfully uninstalled requests-2.23.0\n",
            "  Attempting uninstall: Pillow\n",
            "    Found existing installation: Pillow 7.1.2\n",
            "    Uninstalling Pillow-7.1.2:\n",
            "      Successfully uninstalled Pillow-7.1.2\n",
            "  Attempting uninstall: matplotlib\n",
            "    Found existing installation: matplotlib 3.2.2\n",
            "    Uninstalling matplotlib-3.2.2:\n",
            "      Successfully uninstalled matplotlib-3.2.2\n",
            "  Attempting uninstall: tensorboard\n",
            "    Found existing installation: tensorboard 2.9.1\n",
            "    Uninstalling tensorboard-2.9.1:\n",
            "      Successfully uninstalled tensorboard-2.9.1\n",
            "  Attempting uninstall: seaborn\n",
            "    Found existing installation: seaborn 0.11.2\n",
            "    Uninstalling seaborn-0.11.2:\n",
            "      Successfully uninstalled seaborn-0.11.2\n",
            "  Attempting uninstall: psutil\n",
            "    Found existing installation: psutil 5.4.8\n",
            "    Uninstalling psutil-5.4.8:\n",
            "      Successfully uninstalled psutil-5.4.8\n",
            "  Attempting uninstall: ipython\n",
            "    Found existing installation: ipython 7.9.0\n",
            "    Uninstalling ipython-7.9.0:\n",
            "      Successfully uninstalled ipython-7.9.0\n",
            "\u001b[31mERROR: pip's dependency resolver does not currently take into account all the packages that are installed. This behaviour is the source of the following dependency conflicts.\n",
            "tensorflow 2.9.2 requires tensorboard<2.10,>=2.9, but you have tensorboard 2.10.1 which is incompatible.\n",
            "google-colab 1.0.0 requires ipython~=7.9.0, but you have ipython 7.34.0 which is incompatible.\u001b[0m\n",
            "Successfully installed Pillow-9.2.0 fonttools-4.37.4 ipython-7.34.0 matplotlib-3.5.3 matplotlib-inline-0.1.6 psutil-5.9.3 requests-2.28.1 seaborn-0.12.1 tensorboard-2.10.1\n"
          ]
        },
        {
          "data": {
            "application/vnd.colab-display-data+json": {
              "pip_warning": {
                "packages": [
                  "IPython",
                  "PIL",
                  "matplotlib",
                  "mpl_toolkits",
                  "psutil",
                  "requests"
                ]
              }
            }
          },
          "metadata": {},
          "output_type": "display_data"
        }
      ],
      "source": [
        "!pip install -U -r requirements.txt"
      ]
    },
    {
      "cell_type": "code",
      "execution_count": 2,
      "metadata": {
        "id": "497HIQMzrOL8"
      },
      "outputs": [],
      "source": [
        "!unzip -q ../train_data.zip -d ../"
      ]
    },
    {
      "cell_type": "code",
      "execution_count": 7,
      "metadata": {
        "colab": {
          "base_uri": "https://localhost:8080/"
        },
        "id": "CaLlWWiItKju",
        "outputId": "e4c5c72b-117e-4d61-b668-a0233d54a7fd"
      },
      "outputs": [
        {
          "name": "stdout",
          "output_type": "stream",
          "text": [
            "\u001b[34m\u001b[1mtrain: \u001b[0mweights=yolov5x.pt, cfg=, data=custom_data.yaml, hyp=data/hyps/hyp.scratch-low.yaml, epochs=20, batch_size=16, imgsz=640, rect=False, resume=False, nosave=True, noval=False, noautoanchor=False, noplots=False, evolve=None, bucket=, cache=ram, image_weights=False, device=, multi_scale=False, single_cls=False, optimizer=SGD, sync_bn=False, workers=8, project=runs/train, name=exp, exist_ok=False, quad=False, cos_lr=False, label_smoothing=0.0, patience=100, freeze=[0], save_period=-1, seed=0, local_rank=-1, entity=None, upload_dataset=False, bbox_interval=-1, artifact_alias=latest\n",
            "\u001b[34m\u001b[1mgithub: \u001b[0mup to date with https://github.com/ultralytics/yolov5 ✅\n",
            "YOLOv5 🚀 v6.2-203-g6371de8 Python-3.7.15 torch-1.12.1+cu113 CUDA:0 (Tesla T4, 15110MiB)\n",
            "\n",
            "\u001b[34m\u001b[1mhyperparameters: \u001b[0mlr0=0.01, lrf=0.01, momentum=0.937, weight_decay=0.0005, warmup_epochs=3.0, warmup_momentum=0.8, warmup_bias_lr=0.1, box=0.05, cls=0.5, cls_pw=1.0, obj=1.0, obj_pw=1.0, iou_t=0.2, anchor_t=4.0, fl_gamma=0.0, hsv_h=0.015, hsv_s=0.7, hsv_v=0.4, degrees=0.0, translate=0.1, scale=0.5, shear=0.0, perspective=0.0, flipud=0.0, fliplr=0.5, mosaic=1.0, mixup=0.0, copy_paste=0.0\n",
            "\u001b[34m\u001b[1mClearML: \u001b[0mrun 'pip install clearml' to automatically track, visualize and remotely train YOLOv5 🚀 in ClearML\n",
            "\u001b[34m\u001b[1mComet: \u001b[0mrun 'pip install comet_ml' to automatically track and visualize YOLOv5 🚀 runs in Comet\n",
            "\u001b[34m\u001b[1mTensorBoard: \u001b[0mStart with 'tensorboard --logdir runs/train', view at http://localhost:6006/\n",
            "Overriding model.yaml nc=80 with nc=2\n",
            "\n",
            "                 from  n    params  module                                  arguments                     \n",
            "  0                -1  1      8800  models.common.Conv                      [3, 80, 6, 2, 2]              \n",
            "  1                -1  1    115520  models.common.Conv                      [80, 160, 3, 2]               \n",
            "  2                -1  4    309120  models.common.C3                        [160, 160, 4]                 \n",
            "  3                -1  1    461440  models.common.Conv                      [160, 320, 3, 2]              \n",
            "  4                -1  8   2259200  models.common.C3                        [320, 320, 8]                 \n",
            "  5                -1  1   1844480  models.common.Conv                      [320, 640, 3, 2]              \n",
            "  6                -1 12  13125120  models.common.C3                        [640, 640, 12]                \n",
            "  7                -1  1   7375360  models.common.Conv                      [640, 1280, 3, 2]             \n",
            "  8                -1  4  19676160  models.common.C3                        [1280, 1280, 4]               \n",
            "  9                -1  1   4099840  models.common.SPPF                      [1280, 1280, 5]               \n",
            " 10                -1  1    820480  models.common.Conv                      [1280, 640, 1, 1]             \n",
            " 11                -1  1         0  torch.nn.modules.upsampling.Upsample    [None, 2, 'nearest']          \n",
            " 12           [-1, 6]  1         0  models.common.Concat                    [1]                           \n",
            " 13                -1  4   5332480  models.common.C3                        [1280, 640, 4, False]         \n",
            " 14                -1  1    205440  models.common.Conv                      [640, 320, 1, 1]              \n",
            " 15                -1  1         0  torch.nn.modules.upsampling.Upsample    [None, 2, 'nearest']          \n",
            " 16           [-1, 4]  1         0  models.common.Concat                    [1]                           \n",
            " 17                -1  4   1335040  models.common.C3                        [640, 320, 4, False]          \n",
            " 18                -1  1    922240  models.common.Conv                      [320, 320, 3, 2]              \n",
            " 19          [-1, 14]  1         0  models.common.Concat                    [1]                           \n",
            " 20                -1  4   4922880  models.common.C3                        [640, 640, 4, False]          \n",
            " 21                -1  1   3687680  models.common.Conv                      [640, 640, 3, 2]              \n",
            " 22          [-1, 10]  1         0  models.common.Concat                    [1]                           \n",
            " 23                -1  4  19676160  models.common.C3                        [1280, 1280, 4, False]        \n",
            " 24      [17, 20, 23]  1     47103  models.yolo.Detect                      [2, [[10, 13, 16, 30, 33, 23], [30, 61, 62, 45, 59, 119], [116, 90, 156, 198, 373, 326]], [320, 640, 1280]]\n",
            "Model summary: 445 layers, 86224543 parameters, 86224543 gradients, 204.6 GFLOPs\n",
            "\n",
            "Transferred 739/745 items from yolov5x.pt\n",
            "\u001b[34m\u001b[1mAMP: \u001b[0mchecks passed ✅\n",
            "\u001b[34m\u001b[1moptimizer:\u001b[0m SGD(lr=0.01) with parameter groups 123 weight(decay=0.0), 126 weight(decay=0.0005), 126 bias\n",
            "\u001b[34m\u001b[1malbumentations: \u001b[0mBlur(p=0.01, blur_limit=(3, 7)), MedianBlur(p=0.01, blur_limit=(3, 7)), ToGray(p=0.01), CLAHE(p=0.01, clip_limit=(1, 4.0), tile_grid_size=(8, 8))\n",
            "\u001b[34m\u001b[1mtrain: \u001b[0mScanning '/content/yolov5/train_data/labels/train.cache' images and labels... 86 found, 3 missing, 0 empty, 0 corrupt: 100% 89/89 [00:00<?, ?it/s]\n",
            "\u001b[34m\u001b[1mtrain: \u001b[0mCaching images (0.1GB ram): 100% 89/89 [00:00<00:00, 155.05it/s]\n",
            "\u001b[34m\u001b[1mval: \u001b[0mScanning '/content/yolov5/train_data/labels/val.cache' images and labels... 10 found, 0 missing, 0 empty, 0 corrupt: 100% 10/10 [00:00<?, ?it/s]\n",
            "\u001b[34m\u001b[1mval: \u001b[0mCaching images (0.0GB ram): 100% 10/10 [00:00<00:00, 46.74it/s]\n",
            "\n",
            "\u001b[34m\u001b[1mAutoAnchor: \u001b[0m4.34 anchors/target, 0.996 Best Possible Recall (BPR). Current anchors are a good fit to dataset ✅\n",
            "Plotting labels to runs/train/exp5/labels.jpg... \n",
            "Image sizes 640 train, 640 val\n",
            "Using 2 dataloader workers\n",
            "Logging results to \u001b[1mruns/train/exp5\u001b[0m\n",
            "Starting training for 20 epochs...\n",
            "\n",
            "      Epoch    GPU_mem   box_loss   obj_loss   cls_loss  Instances       Size\n",
            "       0/19      13.7G     0.1087    0.04946    0.02835         61        640: 100% 6/6 [00:12<00:00,  2.03s/it]\n",
            "                 Class     Images  Instances          P          R      mAP50   mAP50-95: 100% 1/1 [00:00<00:00,  2.64it/s]\n",
            "                   all         10         35    0.00708      0.414    0.00949    0.00201\n",
            "\n",
            "      Epoch    GPU_mem   box_loss   obj_loss   cls_loss  Instances       Size\n",
            "       1/19      13.7G      0.103    0.05033    0.02779         59        640: 100% 6/6 [00:05<00:00,  1.05it/s]\n",
            "                 Class     Images  Instances          P          R      mAP50   mAP50-95: 100% 1/1 [00:00<00:00,  2.76it/s]\n",
            "                   all         10         35    0.00822       0.65     0.0253    0.00559\n",
            "\n",
            "      Epoch    GPU_mem   box_loss   obj_loss   cls_loss  Instances       Size\n",
            "       2/19      13.7G    0.09246    0.05819    0.02658         61        640: 100% 6/6 [00:05<00:00,  1.05it/s]\n",
            "                 Class     Images  Instances          P          R      mAP50   mAP50-95: 100% 1/1 [00:00<00:00,  2.87it/s]\n",
            "                   all         10         35      0.592      0.149      0.132     0.0323\n",
            "\n",
            "      Epoch    GPU_mem   box_loss   obj_loss   cls_loss  Instances       Size\n",
            "       3/19      13.7G    0.08664    0.06019    0.02526         58        640: 100% 6/6 [00:05<00:00,  1.06it/s]\n",
            "                 Class     Images  Instances          P          R      mAP50   mAP50-95: 100% 1/1 [00:00<00:00,  2.95it/s]\n",
            "                   all         10         35      0.776      0.184      0.236     0.0652\n",
            "\n",
            "      Epoch    GPU_mem   box_loss   obj_loss   cls_loss  Instances       Size\n",
            "       4/19      13.7G    0.07913    0.05612    0.02276         51        640: 100% 6/6 [00:05<00:00,  1.06it/s]\n",
            "                 Class     Images  Instances          P          R      mAP50   mAP50-95: 100% 1/1 [00:00<00:00,  3.07it/s]\n",
            "                   all         10         35      0.935      0.176      0.282     0.0838\n",
            "\n",
            "      Epoch    GPU_mem   box_loss   obj_loss   cls_loss  Instances       Size\n",
            "       5/19      13.7G     0.0791    0.05789    0.02091         84        640: 100% 6/6 [00:05<00:00,  1.06it/s]\n",
            "                 Class     Images  Instances          P          R      mAP50   mAP50-95: 100% 1/1 [00:00<00:00,  3.17it/s]\n",
            "                   all         10         35      0.955      0.184      0.352      0.119\n",
            "\n",
            "      Epoch    GPU_mem   box_loss   obj_loss   cls_loss  Instances       Size\n",
            "       6/19      13.7G    0.07835    0.05385    0.01923         60        640: 100% 6/6 [00:05<00:00,  1.05it/s]\n",
            "                 Class     Images  Instances          P          R      mAP50   mAP50-95: 100% 1/1 [00:00<00:00,  3.26it/s]\n",
            "                   all         10         35      0.415      0.484      0.391      0.129\n",
            "\n",
            "      Epoch    GPU_mem   box_loss   obj_loss   cls_loss  Instances       Size\n",
            "       7/19      13.7G    0.07487     0.0517    0.01716         69        640: 100% 6/6 [00:05<00:00,  1.05it/s]\n",
            "                 Class     Images  Instances          P          R      mAP50   mAP50-95: 100% 1/1 [00:00<00:00,  3.31it/s]\n",
            "                   all         10         35      0.285      0.426       0.41      0.148\n",
            "\n",
            "      Epoch    GPU_mem   box_loss   obj_loss   cls_loss  Instances       Size\n",
            "       8/19      13.7G    0.06834    0.05286    0.01483         70        640: 100% 6/6 [00:05<00:00,  1.03it/s]\n",
            "                 Class     Images  Instances          P          R      mAP50   mAP50-95: 100% 1/1 [00:00<00:00,  3.38it/s]\n",
            "                   all         10         35      0.204      0.541      0.306      0.101\n",
            "\n",
            "      Epoch    GPU_mem   box_loss   obj_loss   cls_loss  Instances       Size\n",
            "       9/19      13.7G    0.06893    0.05707    0.01353         74        640: 100% 6/6 [00:05<00:00,  1.04it/s]\n",
            "                 Class     Images  Instances          P          R      mAP50   mAP50-95: 100% 1/1 [00:00<00:00,  3.43it/s]\n",
            "                   all         10         35      0.247      0.485      0.296      0.108\n",
            "\n",
            "      Epoch    GPU_mem   box_loss   obj_loss   cls_loss  Instances       Size\n",
            "      10/19      13.7G    0.06696    0.05437    0.01162         61        640: 100% 6/6 [00:05<00:00,  1.03it/s]\n",
            "                 Class     Images  Instances          P          R      mAP50   mAP50-95: 100% 1/1 [00:00<00:00,  3.42it/s]\n",
            "                   all         10         35      0.233      0.488      0.337     0.0904\n",
            "\n",
            "      Epoch    GPU_mem   box_loss   obj_loss   cls_loss  Instances       Size\n",
            "      11/19      13.7G    0.06476    0.04855   0.009723         47        640: 100% 6/6 [00:05<00:00,  1.03it/s]\n",
            "                 Class     Images  Instances          P          R      mAP50   mAP50-95: 100% 1/1 [00:00<00:00,  3.45it/s]\n",
            "                   all         10         35      0.263      0.572      0.235     0.0764\n",
            "\n",
            "      Epoch    GPU_mem   box_loss   obj_loss   cls_loss  Instances       Size\n",
            "      12/19      13.7G    0.06466    0.04975   0.008237         50        640: 100% 6/6 [00:05<00:00,  1.03it/s]\n",
            "                 Class     Images  Instances          P          R      mAP50   mAP50-95: 100% 1/1 [00:00<00:00,  3.56it/s]\n",
            "                   all         10         35        0.3      0.604      0.442      0.107\n",
            "\n",
            "      Epoch    GPU_mem   box_loss   obj_loss   cls_loss  Instances       Size\n",
            "      13/19      13.7G    0.06154    0.04652    0.00774         48        640: 100% 6/6 [00:05<00:00,  1.02it/s]\n",
            "                 Class     Images  Instances          P          R      mAP50   mAP50-95: 100% 1/1 [00:00<00:00,  3.49it/s]\n",
            "                   all         10         35      0.279       0.52       0.39       0.12\n",
            "\n",
            "      Epoch    GPU_mem   box_loss   obj_loss   cls_loss  Instances       Size\n",
            "      14/19      13.7G    0.06128    0.04392   0.007748         37        640: 100% 6/6 [00:05<00:00,  1.02it/s]\n",
            "                 Class     Images  Instances          P          R      mAP50   mAP50-95: 100% 1/1 [00:00<00:00,  3.36it/s]\n",
            "                   all         10         35      0.431      0.577      0.458      0.161\n",
            "\n",
            "      Epoch    GPU_mem   box_loss   obj_loss   cls_loss  Instances       Size\n",
            "      15/19      13.7G    0.05889    0.04987   0.006674         69        640: 100% 6/6 [00:05<00:00,  1.01it/s]\n",
            "                 Class     Images  Instances          P          R      mAP50   mAP50-95: 100% 1/1 [00:00<00:00,  3.45it/s]\n",
            "                   all         10         35      0.369       0.52      0.416      0.145\n",
            "\n",
            "      Epoch    GPU_mem   box_loss   obj_loss   cls_loss  Instances       Size\n",
            "      16/19      13.7G    0.06048    0.04265   0.006927         66        640: 100% 6/6 [00:05<00:00,  1.01it/s]\n",
            "                 Class     Images  Instances          P          R      mAP50   mAP50-95: 100% 1/1 [00:00<00:00,  3.47it/s]\n",
            "                   all         10         35      0.369      0.527      0.414      0.149\n",
            "\n",
            "      Epoch    GPU_mem   box_loss   obj_loss   cls_loss  Instances       Size\n",
            "      17/19      13.7G    0.05948    0.05163   0.006577         57        640: 100% 6/6 [00:06<00:00,  1.00s/it]\n",
            "                 Class     Images  Instances          P          R      mAP50   mAP50-95: 100% 1/1 [00:00<00:00,  3.23it/s]\n",
            "                   all         10         35       0.39      0.604      0.441       0.16\n",
            "\n",
            "      Epoch    GPU_mem   box_loss   obj_loss   cls_loss  Instances       Size\n",
            "      18/19      13.7G     0.0569    0.04442   0.005831         48        640: 100% 6/6 [00:06<00:00,  1.00s/it]\n",
            "                 Class     Images  Instances          P          R      mAP50   mAP50-95: 100% 1/1 [00:00<00:00,  3.34it/s]\n",
            "                   all         10         35      0.434      0.604      0.467      0.161\n",
            "\n",
            "      Epoch    GPU_mem   box_loss   obj_loss   cls_loss  Instances       Size\n",
            "      19/19      13.7G    0.05422     0.0409    0.00466         39        640: 100% 6/6 [00:06<00:00,  1.02s/it]\n",
            "                 Class     Images  Instances          P          R      mAP50   mAP50-95: 100% 1/1 [00:00<00:00,  3.42it/s]\n",
            "                   all         10         35      0.495      0.577      0.477      0.168\n",
            "\n",
            "20 epochs completed in 0.038 hours.\n",
            "Optimizer stripped from runs/train/exp5/weights/last.pt, 173.1MB\n",
            "Optimizer stripped from runs/train/exp5/weights/best.pt, 173.1MB\n",
            "\n",
            "Validating runs/train/exp5/weights/best.pt...\n",
            "Fusing layers... \n",
            "Model summary: 322 layers, 86180143 parameters, 0 gradients, 203.8 GFLOPs\n",
            "                 Class     Images  Instances          P          R      mAP50   mAP50-95: 100% 1/1 [00:00<00:00,  2.80it/s]\n",
            "                   all         10         35      0.495      0.577      0.477      0.168\n",
            "               vehicle         10         19      0.506      0.842      0.717       0.26\n",
            "                person         10         16      0.484      0.312      0.237     0.0757\n",
            "Results saved to \u001b[1mruns/train/exp5\u001b[0m\n"
          ]
        }
      ],
      "source": [
        "!python train.py --img 640 --batch 16 --epochs 20 --data custom_data.yaml --weights yolov5x.pt --nosave --cache"
      ]
    },
    {
      "cell_type": "code",
      "execution_count": null,
      "metadata": {
        "id": "m-lk0DLzw9OD"
      },
      "outputs": [],
      "source": []
    }
  ],
  "metadata": {
    "accelerator": "GPU",
    "colab": {
      "provenance": []
    },
    "kernelspec": {
      "display_name": "Python 3",
      "name": "python3"
    },
    "language_info": {
      "name": "python"
    }
  },
  "nbformat": 4,
  "nbformat_minor": 0
}
